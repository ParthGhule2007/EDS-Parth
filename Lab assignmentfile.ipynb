{
 "cells": [
  {
   "cell_type": "code",
   "execution_count": 3,
   "id": "f010b47d-0364-434c-9771-45f3cc87c84e",
   "metadata": {},
   "outputs": [],
   "source": [
    "import pandas as pd\n",
    "\n",
    "# Load using full file path (Windows style)\n",
    "df = pd.read_csv('goodreads_test.csv')\n",
    "\n",
    "# OR (macOS/Linux style)\n",
    "# df = pd.read_csv(\"/Users/YourName/Documents/goodreads_sample_submission.csv\")\n",
    "\n",
    "\n"
   ]
  },
  {
   "cell_type": "code",
   "execution_count": null,
   "id": "a6bdb288-cad7-4bc8-ba9c-b05ba807c369",
   "metadata": {},
   "outputs": [],
   "source": [
    "How many total ratings are recorded in the dataset?"
   ]
  },
  {
   "cell_type": "code",
   "execution_count": 4,
   "id": "1e9e0502-ab2f-4dd7-a6ab-934c0d73855b",
   "metadata": {},
   "outputs": [
    {
     "data": {
      "text/plain": [
       "478033"
      ]
     },
     "execution_count": 4,
     "metadata": {},
     "output_type": "execute_result"
    }
   ],
   "source": [
    "len(df)\n"
   ]
  },
  {
   "cell_type": "code",
   "execution_count": null,
   "id": "82a7fbf6-1f4a-49a0-90b4-aad1aae97561",
   "metadata": {},
   "outputs": [],
   "source": [
    "How many unique users have submitted ratings?"
   ]
  },
  {
   "cell_type": "code",
   "execution_count": 5,
   "id": "823b8de7-9a3d-4c43-8798-4e11bd53b7ef",
   "metadata": {},
   "outputs": [
    {
     "data": {
      "text/plain": [
       "6705"
      ]
     },
     "execution_count": 5,
     "metadata": {},
     "output_type": "execute_result"
    }
   ],
   "source": [
    "df['user_id'].nunique()\n"
   ]
  },
  {
   "cell_type": "code",
   "execution_count": null,
   "id": "8d365f53-55a8-476d-9375-efd572843d32",
   "metadata": {},
   "outputs": [],
   "source": [
    "What is the total number of unique books rated by users?"
   ]
  },
  {
   "cell_type": "code",
   "execution_count": 6,
   "id": "3ed092d1-a313-49f4-b61a-1f3df088e245",
   "metadata": {},
   "outputs": [
    {
     "data": {
      "text/plain": [
       "25399"
      ]
     },
     "execution_count": 6,
     "metadata": {},
     "output_type": "execute_result"
    }
   ],
   "source": [
    "df['book_id'].nunique()\n"
   ]
  },
  {
   "cell_type": "code",
   "execution_count": null,
   "id": "8401b6c9-4cfe-4ef9-8ccf-4b68c152c9d5",
   "metadata": {},
   "outputs": [],
   "source": [
    "What is the average rating across all user-book pairs?"
   ]
  },
  {
   "cell_type": "code",
   "execution_count": 9,
   "id": "410433e2-e7af-46f0-b49e-7947e23f272f",
   "metadata": {},
   "outputs": [
    {
     "data": {
      "text/plain": [
       "np.float64(2.721015076365021)"
      ]
     },
     "execution_count": 9,
     "metadata": {},
     "output_type": "execute_result"
    }
   ],
   "source": [
    "df['n_votes'].mean()\n",
    "\n"
   ]
  },
  {
   "cell_type": "code",
   "execution_count": null,
   "id": "6450630e-f68b-44d2-bfab-7fd569bdcca4",
   "metadata": {},
   "outputs": [],
   "source": [
    "What are the highest and lowest rating values present in the dataset?"
   ]
  },
  {
   "cell_type": "code",
   "execution_count": 10,
   "id": "7f546a52-499b-498c-b7b3-efe6ee3505fa",
   "metadata": {},
   "outputs": [
    {
     "data": {
      "text/plain": [
       "(np.int64(1837), np.int64(-3))"
      ]
     },
     "execution_count": 10,
     "metadata": {},
     "output_type": "execute_result"
    }
   ],
   "source": [
    "df['n_votes'].max(), df['n_votes'].min()\n"
   ]
  },
  {
   "cell_type": "code",
   "execution_count": null,
   "id": "85acd460-c80b-4758-96b6-444567d53ea3",
   "metadata": {},
   "outputs": [],
   "source": [
    "How many ratings are greater than 4.0?"
   ]
  },
  {
   "cell_type": "code",
   "execution_count": 13,
   "id": "9382f873-212f-4971-b56d-9d3ef6518b23",
   "metadata": {},
   "outputs": [
    {
     "data": {
      "text/plain": [
       "np.int64(52212)"
      ]
     },
     "execution_count": 13,
     "metadata": {},
     "output_type": "execute_result"
    }
   ],
   "source": [
    "(df['n_votes'] > 4).sum()\n"
   ]
  },
  {
   "cell_type": "code",
   "execution_count": null,
   "id": "5f1043ce-5231-40ab-9be4-1a2955650138",
   "metadata": {},
   "outputs": [],
   "source": [
    "How many books have received more than 100 ratings from users?"
   ]
  },
  {
   "cell_type": "code",
   "execution_count": 14,
   "id": "6a3a794c-b064-45e9-904f-cbf48fde7f8f",
   "metadata": {},
   "outputs": [
    {
     "data": {
      "text/plain": [
       "np.int64(643)"
      ]
     },
     "execution_count": 14,
     "metadata": {},
     "output_type": "execute_result"
    }
   ],
   "source": [
    "(df['book_id'].value_counts() > 100).sum()\n"
   ]
  },
  {
   "cell_type": "code",
   "execution_count": null,
   "id": "cfa88856-110e-411b-9d79-06ef48973e13",
   "metadata": {},
   "outputs": [],
   "source": [
    "Which are the top 5 most frequently rated books?"
   ]
  },
  {
   "cell_type": "code",
   "execution_count": 16,
   "id": "dd254ca7-7b1e-442a-8504-8d54d5a00b55",
   "metadata": {},
   "outputs": [
    {
     "data": {
      "text/plain": [
       "book_id\n",
       "11870085    1011\n",
       "2767052      867\n",
       "11235712     784\n",
       "7260188      717\n",
       "11735983     662\n",
       "Name: count, dtype: int64"
      ]
     },
     "execution_count": 16,
     "metadata": {},
     "output_type": "execute_result"
    }
   ],
   "source": [
    "df['book_id'].value_counts().head(5)\n"
   ]
  },
  {
   "cell_type": "code",
   "execution_count": null,
   "id": "03f89f8b-897d-4dcd-bfb5-e15a29c3646c",
   "metadata": {},
   "outputs": [],
   "source": [
    "show first 5 rows of dataset"
   ]
  },
  {
   "cell_type": "code",
   "execution_count": 15,
   "id": "369fde90-2b84-441f-bc26-8bc23aa09b1b",
   "metadata": {},
   "outputs": [
    {
     "data": {
      "text/html": [
       "<div>\n",
       "<style scoped>\n",
       "    .dataframe tbody tr th:only-of-type {\n",
       "        vertical-align: middle;\n",
       "    }\n",
       "\n",
       "    .dataframe tbody tr th {\n",
       "        vertical-align: top;\n",
       "    }\n",
       "\n",
       "    .dataframe thead th {\n",
       "        text-align: right;\n",
       "    }\n",
       "</style>\n",
       "<table border=\"1\" class=\"dataframe\">\n",
       "  <thead>\n",
       "    <tr style=\"text-align: right;\">\n",
       "      <th></th>\n",
       "      <th>user_id</th>\n",
       "      <th>book_id</th>\n",
       "      <th>review_id</th>\n",
       "      <th>review_text</th>\n",
       "      <th>date_added</th>\n",
       "      <th>date_updated</th>\n",
       "      <th>read_at</th>\n",
       "      <th>started_at</th>\n",
       "      <th>n_votes</th>\n",
       "      <th>n_comments</th>\n",
       "    </tr>\n",
       "  </thead>\n",
       "  <tbody>\n",
       "    <tr>\n",
       "      <th>0</th>\n",
       "      <td>b9450d1c1f97f891c392b1105959b56e</td>\n",
       "      <td>7092507</td>\n",
       "      <td>5c4df7e70e9b438c761f07a4620ccb7c</td>\n",
       "      <td>** spoiler alert ** \\n This is definitely one ...</td>\n",
       "      <td>Sat Nov 10 06:06:13 -0800 2012</td>\n",
       "      <td>Sun Nov 11 05:38:36 -0800 2012</td>\n",
       "      <td>Sun Nov 11 05:38:36 -0800 2012</td>\n",
       "      <td>Sat Nov 10 00:00:00 -0800 2012</td>\n",
       "      <td>1</td>\n",
       "      <td>0</td>\n",
       "    </tr>\n",
       "    <tr>\n",
       "      <th>1</th>\n",
       "      <td>b9450d1c1f97f891c392b1105959b56e</td>\n",
       "      <td>5576654</td>\n",
       "      <td>8eaeaf13213eeb16ad879a2a2591bbe5</td>\n",
       "      <td>** spoiler alert ** \\n \"You are what you drink...</td>\n",
       "      <td>Fri Nov 09 21:55:16 -0800 2012</td>\n",
       "      <td>Sat Nov 10 05:41:49 -0800 2012</td>\n",
       "      <td>Sat Nov 10 05:41:49 -0800 2012</td>\n",
       "      <td>Fri Nov 09 00:00:00 -0800 2012</td>\n",
       "      <td>1</td>\n",
       "      <td>0</td>\n",
       "    </tr>\n",
       "    <tr>\n",
       "      <th>2</th>\n",
       "      <td>b9450d1c1f97f891c392b1105959b56e</td>\n",
       "      <td>15754052</td>\n",
       "      <td>dce649b733c153ba5363a0413cac988f</td>\n",
       "      <td>Roar is one of my favorite characters in Under...</td>\n",
       "      <td>Fri Nov 09 00:25:50 -0800 2012</td>\n",
       "      <td>Sat Nov 10 06:14:10 -0800 2012</td>\n",
       "      <td>Sat Nov 10 06:14:10 -0800 2012</td>\n",
       "      <td>Fri Nov 09 00:00:00 -0800 2012</td>\n",
       "      <td>0</td>\n",
       "      <td>0</td>\n",
       "    </tr>\n",
       "    <tr>\n",
       "      <th>3</th>\n",
       "      <td>b9450d1c1f97f891c392b1105959b56e</td>\n",
       "      <td>17020</td>\n",
       "      <td>8a46df0bb997269d6834f9437a4b0a77</td>\n",
       "      <td>** spoiler alert ** \\n If you feel like travel...</td>\n",
       "      <td>Thu Nov 01 00:28:39 -0700 2012</td>\n",
       "      <td>Sat Nov 03 11:35:22 -0700 2012</td>\n",
       "      <td>Sat Nov 03 11:35:22 -0700 2012</td>\n",
       "      <td>Thu Nov 01 00:00:00 -0700 2012</td>\n",
       "      <td>0</td>\n",
       "      <td>0</td>\n",
       "    </tr>\n",
       "    <tr>\n",
       "      <th>4</th>\n",
       "      <td>b9450d1c1f97f891c392b1105959b56e</td>\n",
       "      <td>12551082</td>\n",
       "      <td>d11d3091e22f1cf3cb865598de197599</td>\n",
       "      <td>3.5 stars \\n I read and enjoyed the first two ...</td>\n",
       "      <td>Thu Oct 18 00:57:00 -0700 2012</td>\n",
       "      <td>Mon Apr 01 23:00:51 -0700 2013</td>\n",
       "      <td>Sat Mar 30 00:00:00 -0700 2013</td>\n",
       "      <td>Fri Mar 29 00:00:00 -0700 2013</td>\n",
       "      <td>0</td>\n",
       "      <td>0</td>\n",
       "    </tr>\n",
       "  </tbody>\n",
       "</table>\n",
       "</div>"
      ],
      "text/plain": [
       "                            user_id   book_id  \\\n",
       "0  b9450d1c1f97f891c392b1105959b56e   7092507   \n",
       "1  b9450d1c1f97f891c392b1105959b56e   5576654   \n",
       "2  b9450d1c1f97f891c392b1105959b56e  15754052   \n",
       "3  b9450d1c1f97f891c392b1105959b56e     17020   \n",
       "4  b9450d1c1f97f891c392b1105959b56e  12551082   \n",
       "\n",
       "                          review_id  \\\n",
       "0  5c4df7e70e9b438c761f07a4620ccb7c   \n",
       "1  8eaeaf13213eeb16ad879a2a2591bbe5   \n",
       "2  dce649b733c153ba5363a0413cac988f   \n",
       "3  8a46df0bb997269d6834f9437a4b0a77   \n",
       "4  d11d3091e22f1cf3cb865598de197599   \n",
       "\n",
       "                                         review_text  \\\n",
       "0  ** spoiler alert ** \\n This is definitely one ...   \n",
       "1  ** spoiler alert ** \\n \"You are what you drink...   \n",
       "2  Roar is one of my favorite characters in Under...   \n",
       "3  ** spoiler alert ** \\n If you feel like travel...   \n",
       "4  3.5 stars \\n I read and enjoyed the first two ...   \n",
       "\n",
       "                       date_added                    date_updated  \\\n",
       "0  Sat Nov 10 06:06:13 -0800 2012  Sun Nov 11 05:38:36 -0800 2012   \n",
       "1  Fri Nov 09 21:55:16 -0800 2012  Sat Nov 10 05:41:49 -0800 2012   \n",
       "2  Fri Nov 09 00:25:50 -0800 2012  Sat Nov 10 06:14:10 -0800 2012   \n",
       "3  Thu Nov 01 00:28:39 -0700 2012  Sat Nov 03 11:35:22 -0700 2012   \n",
       "4  Thu Oct 18 00:57:00 -0700 2012  Mon Apr 01 23:00:51 -0700 2013   \n",
       "\n",
       "                          read_at                      started_at  n_votes  \\\n",
       "0  Sun Nov 11 05:38:36 -0800 2012  Sat Nov 10 00:00:00 -0800 2012        1   \n",
       "1  Sat Nov 10 05:41:49 -0800 2012  Fri Nov 09 00:00:00 -0800 2012        1   \n",
       "2  Sat Nov 10 06:14:10 -0800 2012  Fri Nov 09 00:00:00 -0800 2012        0   \n",
       "3  Sat Nov 03 11:35:22 -0700 2012  Thu Nov 01 00:00:00 -0700 2012        0   \n",
       "4  Sat Mar 30 00:00:00 -0700 2013  Fri Mar 29 00:00:00 -0700 2013        0   \n",
       "\n",
       "   n_comments  \n",
       "0           0  \n",
       "1           0  \n",
       "2           0  \n",
       "3           0  \n",
       "4           0  "
      ]
     },
     "execution_count": 15,
     "metadata": {},
     "output_type": "execute_result"
    }
   ],
   "source": [
    "df.head()"
   ]
  },
  {
   "cell_type": "code",
   "execution_count": null,
   "id": "a893a793-1405-49b8-b7e1-f599d2e8ce4f",
   "metadata": {},
   "outputs": [],
   "source": [
    "Which user has written the highest number of reviews?"
   ]
  },
  {
   "cell_type": "code",
   "execution_count": 17,
   "id": "e1376087-b37d-4753-848f-83f67bdc0ab9",
   "metadata": {},
   "outputs": [
    {
     "data": {
      "text/plain": [
       "'c5b70e45e230a166bb00201662495d69'"
      ]
     },
     "execution_count": 17,
     "metadata": {},
     "output_type": "execute_result"
    }
   ],
   "source": [
    "df['user_id'].value_counts().idxmax()\n"
   ]
  },
  {
   "cell_type": "code",
   "execution_count": null,
   "id": "c3033d43-fedb-41fa-aa31-06e2c53469ed",
   "metadata": {},
   "outputs": [],
   "source": [
    "which book received the most comments overall across all reviews?"
   ]
  },
  {
   "cell_type": "code",
   "execution_count": 18,
   "id": "eeb0e092-241d-4519-b9d3-3f80b4d4ac65",
   "metadata": {},
   "outputs": [
    {
     "data": {
      "text/plain": [
       "np.int64(10818853)"
      ]
     },
     "execution_count": 18,
     "metadata": {},
     "output_type": "execute_result"
    }
   ],
   "source": [
    "df.groupby('book_id')['n_comments'].sum().idxmax()\n"
   ]
  },
  {
   "cell_type": "code",
   "execution_count": null,
   "id": "302520e3-414f-4cfd-90db-f7d1f5e6ff08",
   "metadata": {},
   "outputs": [],
   "source": [
    "What percentage of reviews received zero votes?"
   ]
  },
  {
   "cell_type": "code",
   "execution_count": 19,
   "id": "140173c9-e6e6-4f41-90dc-ba936048721a",
   "metadata": {},
   "outputs": [
    {
     "data": {
      "text/plain": [
       "np.float64(61.20226009501436)"
      ]
     },
     "execution_count": 19,
     "metadata": {},
     "output_type": "execute_result"
    }
   ],
   "source": [
    "(df['n_votes'] == 0).mean() * 100\n"
   ]
  },
  {
   "cell_type": "code",
   "execution_count": null,
   "id": "b93c24a3-a0c0-4b05-88ac-dd6d011e6eaa",
   "metadata": {},
   "outputs": [],
   "source": [
    "Which review has the longest text (in terms of character count)?"
   ]
  },
  {
   "cell_type": "code",
   "execution_count": 20,
   "id": "40a41a52-5314-49c2-bd15-206fd8c29544",
   "metadata": {},
   "outputs": [
    {
     "data": {
      "text/plain": [
       "122495"
      ]
     },
     "execution_count": 20,
     "metadata": {},
     "output_type": "execute_result"
    }
   ],
   "source": [
    "df['review_text'].str.len().idxmax()\n"
   ]
  },
  {
   "cell_type": "code",
   "execution_count": null,
   "id": "ef88bb51-e216-4241-a02a-1a1ab9a006eb",
   "metadata": {},
   "outputs": [],
   "source": [
    "Find the number of reviews where read_at is missing"
   ]
  },
  {
   "cell_type": "code",
   "execution_count": 21,
   "id": "68753887-b79e-4045-88b9-6f2672f318cd",
   "metadata": {},
   "outputs": [
    {
     "data": {
      "text/plain": [
       "np.int64(42478)"
      ]
     },
     "execution_count": 21,
     "metadata": {},
     "output_type": "execute_result"
    }
   ],
   "source": [
    "df['read_at'].isna().sum()\n"
   ]
  },
  {
   "cell_type": "code",
   "execution_count": null,
   "id": "78fd0cbb-e769-4d86-9a32-5f8895eb2ade",
   "metadata": {},
   "outputs": [],
   "source": [
    "Calculate the average time (in days) between started_at and read_at."
   ]
  },
  {
   "cell_type": "code",
   "execution_count": 27,
   "id": "da048a34-ba59-4931-9310-a2e76155a73c",
   "metadata": {},
   "outputs": [
    {
     "name": "stdout",
     "output_type": "stream",
     "text": [
      " Average reading time: 7.81 days\n"
     ]
    }
   ],
   "source": [
    "# Drop missing dates and make a copy to avoid the warning\n",
    "valid_dates = df.dropna(subset=['started_at', 'read_at']).copy()\n",
    "\n",
    "# Now safely calculate duration without warning\n",
    "valid_dates['duration_days'] = (\n",
    "    (valid_dates['read_at'] - valid_dates['started_at']).dt.total_seconds() / (60 * 60 * 24)\n",
    ")\n",
    "\n",
    "# Calculate average reading time\n",
    "average_duration = valid_dates['duration_days'].mean()\n",
    "print(f\" Average reading time: {average_duration:.2f} days\")\n"
   ]
  },
  {
   "cell_type": "code",
   "execution_count": null,
   "id": "57f1d9af-f262-4bbf-bbd8-37c995e5c245",
   "metadata": {},
   "outputs": [],
   "source": [
    " Identify users who received more than 50 total votes across all their reviews."
   ]
  },
  {
   "cell_type": "code",
   "execution_count": 28,
   "id": "041ed1bd-f5ca-495a-80bc-9c7a85397135",
   "metadata": {},
   "outputs": [
    {
     "data": {
      "text/plain": [
       "user_id\n",
       "000883382802f2d95a3dd545bb953882     90\n",
       "00925084a0dc0aad9ac93163a7f4bfe9    756\n",
       "00982d9fbae61a3a96654e21dbc74999    189\n",
       "00b81fa8e2de286c6cfec8559f3f7b21     79\n",
       "00f430253f528f841dc91aa3f9498457    689\n",
       "                                   ... \n",
       "ffc4bd4485bcd97a63cf40fdb9ce4f54    121\n",
       "ffca1494ab9fd9c7fd3513e914e23141    110\n",
       "ffd156f9a70275624951826b946b0c3e    104\n",
       "ffd6c953994c599ce74e90874e3c7809    485\n",
       "ffdc905c54178e607755230066928766    157\n",
       "Name: n_votes, Length: 1846, dtype: int64"
      ]
     },
     "execution_count": 28,
     "metadata": {},
     "output_type": "execute_result"
    }
   ],
   "source": [
    "df.groupby('user_id')['n_votes'].sum().loc[lambda x: x > 50]\n"
   ]
  },
  {
   "cell_type": "code",
   "execution_count": null,
   "id": "ed4df584-a020-405a-bf70-baea763a57f9",
   "metadata": {},
   "outputs": [],
   "source": [
    "What is the most common month for users to add reviews (date_added)?"
   ]
  },
  {
   "cell_type": "code",
   "execution_count": 33,
   "id": "eb4e16b9-e268-4b0b-8f20-ac4e1956e820",
   "metadata": {},
   "outputs": [
    {
     "name": "stdout",
     "output_type": "stream",
     "text": [
      "Most common month for adding reviews: January\n"
     ]
    }
   ],
   "source": [
    "# Convert to datetime safely\n",
    "df['date_added'] = pd.to_datetime(df['date_added'], errors='coerce')\n",
    "\n",
    "# Extract month names\n",
    "most_common_month = df['date_added'].dt.month_name().value_counts().idxmax()\n",
    "\n",
    "print(f\"Most common month for adding reviews: {most_common_month}\")\n"
   ]
  },
  {
   "cell_type": "code",
   "execution_count": null,
   "id": "0ee08a1e-17df-4033-b7c7-c4e0722a326b",
   "metadata": {},
   "outputs": [],
   "source": [
    "Which review got the highest number of comments and what is its review_text?"
   ]
  },
  {
   "cell_type": "code",
   "execution_count": 34,
   "id": "ad36ec51-092c-41d2-957d-484b122625fa",
   "metadata": {},
   "outputs": [
    {
     "data": {
      "text/plain": [
       "\"This was so much fun to read as a buddy read with my Goodreads friend, Laura. She kindly waited for my library copy to arrive and then was very patient with my reading pace; we stayed practically in sync the entire way through the book, and that made the experience really fun. \\n I love J.K. Rowling, as a writer and a storyteller, and as a person, and I'll most likely read any book she writes. \\n I do prefer cozy and/or humorous mysteries. This one had too much gore for me, though thankfully the violence was off the page. There was way too much sexual perversion for me too, most notably in the pages of a fictional book within the book, a book I found repulsive. Though the reader is supposed to feel this way, I still didn't enjoy reading excerpts. I have to say that Rowling knows her mythology though, just as she showed in the Harry Potter books. \\n I do love the character Robin and I hope she appears more and more frequently with each new book in the series. My favorite parts these books are when Robin is present. I also really enjoy Robin's mother and would like to see much more of her. It's Robin that has me in love with this series, even though I am loving Strike more and more. \\n In this book I had great interest in many of the characters. I enjoyed trying to solve the mystery. The resolution is so much fun and is incredibly brilliant. If it weren't for the above mentioned gore and perversion, and if I tended to reread mysteries, I'd be tempted to reread this to see how she did it all. The reveal was one of the possibilities I'd considered but I'd missed the most important clues. There were many red herrings and some things that couldn't be guessed, but Rowling played fair and it wasn't impossible to guess the identity of the main culprit. (I'm sure she wouldn't be happy about it but I do think of this series as by Rowling vs. Galbraith.) \\n I really enjoyed the British words and phrases used. I also enjoyed the London and other British settings. I felt as though I got in a bit of armchair travel. The words and phrases, some of the cultural things, well they seem so exotic to me, so English. It has me wondering whether American vs. British (vs. other nationalities of) readers have different experiences reading these books. I also wondered that with the Harry Potter books. \\n So, this book is hard for me to rate. All along it could have been as low as a three and as high as a five. I think it ended up as a 4.5 for me. I guess I have to round down even though Robin is one of my favorite fictional characters and I thought the mystery was very well done. The book is a little too hard core for my tastes. My favorite mysteries are cozy mysteries, humorous cozy mysteries. \\n 4 1/2 stars \\n ETA: I should have taken notes. There is a long, spoiler ridden buddy read conversation at my Goodreads' review page. \\n So, I did want to include that I enjoyed reading about the writers, editors, and publishers that that world, a world that Rowling obviously knows. Though highly fictionalized, I certainly hope. I think there was truth there, and I think Rowling probably had a blast writing this book!\""
      ]
     },
     "execution_count": 34,
     "metadata": {},
     "output_type": "execute_result"
    }
   ],
   "source": [
    "df.loc[df['n_comments'].idxmax(), 'review_text']\n"
   ]
  },
  {
   "cell_type": "code",
   "execution_count": null,
   "id": "16ca58bf-3206-4fc6-baca-7690ea15544f",
   "metadata": {},
   "outputs": [],
   "source": [
    "Which books have been rated by the top 5 most active users?\n"
   ]
  },
  {
   "cell_type": "code",
   "execution_count": 35,
   "id": "2bc41a59-b333-4d7a-97e0-201556b50cfa",
   "metadata": {},
   "outputs": [
    {
     "data": {
      "text/plain": [
       "array([  311218,    45032, 23314731, ...,     8088,   285205,    71811],\n",
       "      shape=(4003,))"
      ]
     },
     "execution_count": 35,
     "metadata": {},
     "output_type": "execute_result"
    }
   ],
   "source": [
    "top_users = df['user_id'].value_counts().head(5).index\n",
    "df[df['user_id'].isin(top_users)]['book_id'].unique()\n"
   ]
  },
  {
   "cell_type": "code",
   "execution_count": null,
   "id": "e39f3a6d-97e6-4671-8cb1-22f3cf342306",
   "metadata": {},
   "outputs": [],
   "source": [
    "What is the average rating for books rated only by 1 person vs books rated by 10 or more?"
   ]
  },
  {
   "cell_type": "code",
   "execution_count": 37,
   "id": "a1489d35-1e62-4db4-bf82-607dcfb68214",
   "metadata": {},
   "outputs": [
    {
     "data": {
      "text/plain": [
       "(np.float64(3.1390134529147984), np.float64(2.668496586779694))"
      ]
     },
     "execution_count": 37,
     "metadata": {},
     "output_type": "execute_result"
    }
   ],
   "source": [
    "group = df.groupby('book_id')['n_votes'].agg(['mean', 'count'])\n",
    "single_rated_avg = group[group['count'] == 1]['mean'].mean()\n",
    "popular_rated_avg = group[group['count'] >= 10]['mean'].mean()\n",
    "single_rated_avg, popular_rated_avg\n"
   ]
  },
  {
   "cell_type": "code",
   "execution_count": null,
   "id": "a3dff359-266b-44f9-b6e2-f13f82f5f7c6",
   "metadata": {},
   "outputs": [],
   "source": []
  }
 ],
 "metadata": {
  "kernelspec": {
   "display_name": "Python 3 (ipykernel)",
   "language": "python",
   "name": "python3"
  },
  "language_info": {
   "codemirror_mode": {
    "name": "ipython",
    "version": 3
   },
   "file_extension": ".py",
   "mimetype": "text/x-python",
   "name": "python",
   "nbconvert_exporter": "python",
   "pygments_lexer": "ipython3",
   "version": "3.13.1"
  }
 },
 "nbformat": 4,
 "nbformat_minor": 5
}
